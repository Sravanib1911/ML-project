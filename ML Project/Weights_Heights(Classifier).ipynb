{
  "nbformat": 4,
  "nbformat_minor": 0,
  "metadata": {
    "colab": {
      "name": "Weights_Heights(Classifier)",
      "provenance": []
    },
    "kernelspec": {
      "name": "python3",
      "display_name": "Python 3"
    },
    "language_info": {
      "name": "python"
    }
  },
  "cells": [
    {
      "cell_type": "code",
      "metadata": {
        "id": "kfUFG-xLTSli"
      },
      "source": [
        "import pandas as pd\n",
        "import numpy as np\n",
        "import seaborn as sns\n",
        "import matplotlib.pyplot as plt\n",
        "from sklearn.model_selection import train_test_split\n",
        "from sklearn.linear_model import LogisticRegression\n",
        "from sklearn.svm import SVC\n",
        "from sklearn.neighbors import KNeighborsClassifier\n",
        "from sklearn.tree import DecisionTreeClassifier\n",
        "from sklearn.metrics import accuracy_score\n",
        "from sklearn.metrics import confusion_matrix\n",
        "\n",
        "from sklearn.metrics import classification_report\n",
        "import warnings\n",
        "warnings.filterwarnings('ignore')"
      ],
      "execution_count": 35,
      "outputs": []
    },
    {
      "cell_type": "code",
      "metadata": {
        "id": "xsea6KGCUF8X"
      },
      "source": [
        ""
      ],
      "execution_count": null,
      "outputs": []
    },
    {
      "cell_type": "code",
      "metadata": {
        "id": "v921iBLyT5w7"
      },
      "source": [
        "dframe = pd.read_csv('Weights_Heights.csv')"
      ],
      "execution_count": 2,
      "outputs": []
    },
    {
      "cell_type": "code",
      "metadata": {
        "colab": {
          "base_uri": "https://localhost:8080/",
          "height": 204
        },
        "id": "BM1qXwVJUA_7",
        "outputId": "55df2687-de68-4dff-d3d8-1b582c5a075f"
      },
      "source": [
        "dframe.head()"
      ],
      "execution_count": 3,
      "outputs": [
        {
          "output_type": "execute_result",
          "data": {
            "text/html": [
              "<div>\n",
              "<style scoped>\n",
              "    .dataframe tbody tr th:only-of-type {\n",
              "        vertical-align: middle;\n",
              "    }\n",
              "\n",
              "    .dataframe tbody tr th {\n",
              "        vertical-align: top;\n",
              "    }\n",
              "\n",
              "    .dataframe thead th {\n",
              "        text-align: right;\n",
              "    }\n",
              "</style>\n",
              "<table border=\"1\" class=\"dataframe\">\n",
              "  <thead>\n",
              "    <tr style=\"text-align: right;\">\n",
              "      <th></th>\n",
              "      <th>Gender</th>\n",
              "      <th>Height</th>\n",
              "      <th>Weight</th>\n",
              "    </tr>\n",
              "  </thead>\n",
              "  <tbody>\n",
              "    <tr>\n",
              "      <th>0</th>\n",
              "      <td>Male</td>\n",
              "      <td>73.847017</td>\n",
              "      <td>241.893563</td>\n",
              "    </tr>\n",
              "    <tr>\n",
              "      <th>1</th>\n",
              "      <td>Male</td>\n",
              "      <td>68.781904</td>\n",
              "      <td>162.310473</td>\n",
              "    </tr>\n",
              "    <tr>\n",
              "      <th>2</th>\n",
              "      <td>Male</td>\n",
              "      <td>74.110105</td>\n",
              "      <td>212.740856</td>\n",
              "    </tr>\n",
              "    <tr>\n",
              "      <th>3</th>\n",
              "      <td>Male</td>\n",
              "      <td>71.730978</td>\n",
              "      <td>220.042470</td>\n",
              "    </tr>\n",
              "    <tr>\n",
              "      <th>4</th>\n",
              "      <td>Male</td>\n",
              "      <td>69.881796</td>\n",
              "      <td>206.349801</td>\n",
              "    </tr>\n",
              "  </tbody>\n",
              "</table>\n",
              "</div>"
            ],
            "text/plain": [
              "  Gender     Height      Weight\n",
              "0   Male  73.847017  241.893563\n",
              "1   Male  68.781904  162.310473\n",
              "2   Male  74.110105  212.740856\n",
              "3   Male  71.730978  220.042470\n",
              "4   Male  69.881796  206.349801"
            ]
          },
          "metadata": {
            "tags": []
          },
          "execution_count": 3
        }
      ]
    },
    {
      "cell_type": "markdown",
      "metadata": {
        "id": "2sq7SZGFUOD1"
      },
      "source": [
        "**Checking null values**"
      ]
    },
    {
      "cell_type": "code",
      "metadata": {
        "colab": {
          "base_uri": "https://localhost:8080/"
        },
        "id": "7UsCX-tjUD_1",
        "outputId": "8dc4826d-5912-44e2-c6e6-00e6deb8f432"
      },
      "source": [
        "dframe.isnull().sum()"
      ],
      "execution_count": 4,
      "outputs": [
        {
          "output_type": "execute_result",
          "data": {
            "text/plain": [
              "Gender    0\n",
              "Height    0\n",
              "Weight    0\n",
              "dtype: int64"
            ]
          },
          "metadata": {
            "tags": []
          },
          "execution_count": 4
        }
      ]
    },
    {
      "cell_type": "markdown",
      "metadata": {
        "id": "MozD7HLyUSV4"
      },
      "source": [
        "There are no null values in the data set"
      ]
    },
    {
      "cell_type": "markdown",
      "metadata": {
        "id": "xtqUGE9aUZMs"
      },
      "source": [
        "**Description of data set**"
      ]
    },
    {
      "cell_type": "code",
      "metadata": {
        "colab": {
          "base_uri": "https://localhost:8080/",
          "height": 297
        },
        "id": "4VrmtVnIUROS",
        "outputId": "612a678d-0e6f-433e-9dad-ab7a405f573b"
      },
      "source": [
        "dframe.describe()"
      ],
      "execution_count": 5,
      "outputs": [
        {
          "output_type": "execute_result",
          "data": {
            "text/html": [
              "<div>\n",
              "<style scoped>\n",
              "    .dataframe tbody tr th:only-of-type {\n",
              "        vertical-align: middle;\n",
              "    }\n",
              "\n",
              "    .dataframe tbody tr th {\n",
              "        vertical-align: top;\n",
              "    }\n",
              "\n",
              "    .dataframe thead th {\n",
              "        text-align: right;\n",
              "    }\n",
              "</style>\n",
              "<table border=\"1\" class=\"dataframe\">\n",
              "  <thead>\n",
              "    <tr style=\"text-align: right;\">\n",
              "      <th></th>\n",
              "      <th>Height</th>\n",
              "      <th>Weight</th>\n",
              "    </tr>\n",
              "  </thead>\n",
              "  <tbody>\n",
              "    <tr>\n",
              "      <th>count</th>\n",
              "      <td>10000.000000</td>\n",
              "      <td>10000.000000</td>\n",
              "    </tr>\n",
              "    <tr>\n",
              "      <th>mean</th>\n",
              "      <td>66.367560</td>\n",
              "      <td>161.440357</td>\n",
              "    </tr>\n",
              "    <tr>\n",
              "      <th>std</th>\n",
              "      <td>3.847528</td>\n",
              "      <td>32.108439</td>\n",
              "    </tr>\n",
              "    <tr>\n",
              "      <th>min</th>\n",
              "      <td>54.263133</td>\n",
              "      <td>64.700127</td>\n",
              "    </tr>\n",
              "    <tr>\n",
              "      <th>25%</th>\n",
              "      <td>63.505620</td>\n",
              "      <td>135.818051</td>\n",
              "    </tr>\n",
              "    <tr>\n",
              "      <th>50%</th>\n",
              "      <td>66.318070</td>\n",
              "      <td>161.212928</td>\n",
              "    </tr>\n",
              "    <tr>\n",
              "      <th>75%</th>\n",
              "      <td>69.174262</td>\n",
              "      <td>187.169525</td>\n",
              "    </tr>\n",
              "    <tr>\n",
              "      <th>max</th>\n",
              "      <td>78.998742</td>\n",
              "      <td>269.989699</td>\n",
              "    </tr>\n",
              "  </tbody>\n",
              "</table>\n",
              "</div>"
            ],
            "text/plain": [
              "             Height        Weight\n",
              "count  10000.000000  10000.000000\n",
              "mean      66.367560    161.440357\n",
              "std        3.847528     32.108439\n",
              "min       54.263133     64.700127\n",
              "25%       63.505620    135.818051\n",
              "50%       66.318070    161.212928\n",
              "75%       69.174262    187.169525\n",
              "max       78.998742    269.989699"
            ]
          },
          "metadata": {
            "tags": []
          },
          "execution_count": 5
        }
      ]
    },
    {
      "cell_type": "markdown",
      "metadata": {
        "id": "wC2GWwi5Um4c"
      },
      "source": [
        "From the above output Mean of Height and Weight are different and also standard deviation. "
      ]
    },
    {
      "cell_type": "markdown",
      "metadata": {
        "id": "QnvSZZCkUtHS"
      },
      "source": [
        "**Finding relationship between Gender and Height**"
      ]
    },
    {
      "cell_type": "code",
      "metadata": {
        "colab": {
          "base_uri": "https://localhost:8080/"
        },
        "id": "SxSVhTrtUgQf",
        "outputId": "8a31f540-7eb0-4111-869f-e55bca37c83d"
      },
      "source": [
        "print(dframe.groupby('Gender')['Height'].describe())\n"
      ],
      "execution_count": 6,
      "outputs": [
        {
          "output_type": "stream",
          "text": [
            "         count       mean       std  ...        50%        75%        max\n",
            "Gender                               ...                                 \n",
            "Female  5000.0  63.708774  2.696284  ...  63.730924  65.563565  73.389586\n",
            "Male    5000.0  69.026346  2.863362  ...  69.027709  70.988744  78.998742\n",
            "\n",
            "[2 rows x 8 columns]\n"
          ],
          "name": "stdout"
        }
      ]
    },
    {
      "cell_type": "markdown",
      "metadata": {
        "id": "vIov5FsjU4KW"
      },
      "source": [
        "It can be seen that the mean of height and standard deviation of height for male and female are different. Hence, there is a meaningful difference between gender and height. Thus, there seems to be a relationship between gender and height.\n",
        "\n"
      ]
    },
    {
      "cell_type": "markdown",
      "metadata": {
        "id": "KBbo77x5U8aQ"
      },
      "source": [
        "**Finding difference between Gender and Weight**"
      ]
    },
    {
      "cell_type": "code",
      "metadata": {
        "colab": {
          "base_uri": "https://localhost:8080/"
        },
        "id": "CvOAJV8TUzjg",
        "outputId": "93be3ca3-fbc4-45b0-e647-abe6552520c2"
      },
      "source": [
        "print(dframe.groupby('Gender')['Weight'].describe())\n"
      ],
      "execution_count": 7,
      "outputs": [
        {
          "output_type": "stream",
          "text": [
            "         count        mean        std  ...         50%         75%         max\n",
            "Gender                                 ...                                    \n",
            "Female  5000.0  135.860093  19.022468  ...  136.117583  148.810926  202.237214\n",
            "Male    5000.0  187.020621  19.781155  ...  187.033546  200.357802  269.989699\n",
            "\n",
            "[2 rows x 8 columns]\n"
          ],
          "name": "stdout"
        }
      ]
    },
    {
      "cell_type": "markdown",
      "metadata": {
        "id": "raqX-SzmVEm4"
      },
      "source": [
        "It can be seen that the mean of weight and standard deviation of weight for male and female are different. Hence, there is a meaningful difference between gender and height. Thus, there seems to be a relationship between gender and height.\n",
        "\n"
      ]
    },
    {
      "cell_type": "code",
      "metadata": {
        "colab": {
          "base_uri": "https://localhost:8080/",
          "height": 573
        },
        "id": "cijp0HGfU_g_",
        "outputId": "af0bc466-014c-46c3-f2d0-05be2b54adc0"
      },
      "source": [
        "#histogram for height\n",
        "height = dframe['Height']\n",
        "plt.hist(height, bins = 10)\n",
        "plt.xlabel('Bins')\n",
        "plt.ylabel('Frequency')\n",
        "plt.title('Histogram for Height')\n",
        "plt.show()\n",
        "\n",
        "#histogram for weight\n",
        "weight = dframe['Weight']\n",
        "plt.hist(weight, bins = 10)\n",
        "plt.xlabel('Bins')\n",
        "plt.ylabel('Frequency')\n",
        "plt.title('Histogram for Weight')\n",
        "plt.show()"
      ],
      "execution_count": 9,
      "outputs": [
        {
          "output_type": "display_data",
          "data": {
            "image/png": "[encoded data removed]",
            "text/plain": [
              "<Figure size 432x288 with 1 Axes>"
            ]
          },
          "metadata": {
            "tags": [],
            "needs_background": "light"
          }
        },
        {
          "output_type": "display_data",
          "data": {
            "image/png": "[encoded data removed]",
            "text/plain": [
              "<Figure size 432x288 with 1 Axes>"
            ]
          },
          "metadata": {
            "tags": [],
            "needs_background": "light"
          }
        }
      ]
    },
    {
      "cell_type": "markdown",
      "metadata": {
        "id": "Yer7fwN3VeSA"
      },
      "source": [
        "Both Height and Weight are normally distributed"
      ]
    },
    {
      "cell_type": "markdown",
      "metadata": {
        "id": "zklOi1_OVoEd"
      },
      "source": [
        "**Defining and Splitting the data**"
      ]
    },
    {
      "cell_type": "code",
      "metadata": {
        "colab": {
          "base_uri": "https://localhost:8080/"
        },
        "id": "GdwIRXYFZUpE",
        "outputId": "29577923-b68c-4de6-a46e-bb9d74892e51"
      },
      "source": [
        "#defining the variable \"X\" and \"y\"\n",
        "X = dframe.iloc[:, 1:3].values\n",
        "y = dframe.iloc[:,0:1].values\n",
        "print(X)\n",
        "print(y)"
      ],
      "execution_count": 22,
      "outputs": [
        {
          "output_type": "stream",
          "text": [
            "[[ 73.84701702 241.89356318]\n",
            " [ 68.78190405 162.31047252]\n",
            " [ 74.11010539 212.74085556]\n",
            " ...\n",
            " [ 63.86799221 128.47531878]\n",
            " [ 69.03424313 163.85246135]\n",
            " [ 61.94424588 113.64910268]]\n",
            "[['Male']\n",
            " ['Male']\n",
            " ['Male']\n",
            " ...\n",
            " ['Female']\n",
            " ['Female']\n",
            " ['Female']]\n"
          ],
          "name": "stdout"
        }
      ]
    },
    {
      "cell_type": "code",
      "metadata": {
        "id": "6x3Ab5EWZqLE"
      },
      "source": [
        "from sklearn.model_selection import train_test_split\n",
        "X_train,X_test,y_train,y_test = train_test_split(X,y,test_size=0.25,random_state = 0)"
      ],
      "execution_count": 23,
      "outputs": []
    },
    {
      "cell_type": "markdown",
      "metadata": {
        "id": "c9kts3yUVvQB"
      },
      "source": [
        "Now, that we have described our data and now that we know the data is clean to analyse, we create test and train data set. The general 80:20 split has been used where 80% of data is split into training set and 20% of data is split into test set.\n"
      ]
    },
    {
      "cell_type": "markdown",
      "metadata": {
        "id": "utZHagU5V8Ab"
      },
      "source": [
        "**classifiers**\n",
        "The following are the classifiers that are used for Binary classification \n",
        "\n",
        "1. Binary Decision Tree\n",
        "2. Support Vector Machine\n",
        "3. k-n Neighbours Classifier\n",
        "\n",
        "\n"
      ]
    },
    {
      "cell_type": "code",
      "metadata": {
        "id": "_GrE3EgslezX"
      },
      "source": [
        "clf1 = tree.DecisionTreeClassifier()\n",
        "clf2 = svm.SVC(gamma='auto')\n",
        "clf3 = neighbors.KNeighborsClassifier()\n",
        "clf4 = LogisticRegression()\n",
        "\n",
        "#fitting data\n",
        "clf1 = clf1.fit(X_train,y_train)\n",
        "clf2 = clf2.fit(X_train,y_train)\n",
        "clf3 = clf3.fit(X_train, y_train)\n",
        "clf4 = clf4.fit(X_train, y_train)\n"
      ],
      "execution_count": 52,
      "outputs": []
    },
    {
      "cell_type": "code",
      "metadata": {
        "id": "e-wo9kNeVLD0"
      },
      "source": [
        "#making predictions\n",
        "prediction1 = clf1.predict(X_test)\n",
        "prediction2 = clf2.predict(X_test)\n",
        "prediction3 = clf3.predict(X_test)\n",
        "prediction4 = clf4.predict(X_test)"
      ],
      "execution_count": 37,
      "outputs": []
    },
    {
      "cell_type": "markdown",
      "metadata": {
        "id": "q26oTT4PaTjf"
      },
      "source": [
        "**Evaluating Model**\n",
        "1. Classification Accuracy"
      ]
    },
    {
      "cell_type": "code",
      "metadata": {
        "id": "QxICSHtCaLDK"
      },
      "source": [
        "r1 = accuracy_score(y_test, prediction1)\n",
        "r2 = accuracy_score(y_test, prediction2)\n",
        "r3 = accuracy_score(y_test, prediction3)\n",
        "r4 = accuracy_score(y_test, prediction4)\n",
        "\n"
      ],
      "execution_count": 38,
      "outputs": []
    },
    {
      "cell_type": "code",
      "metadata": {
        "colab": {
          "base_uri": "https://localhost:8080/"
        },
        "id": "BWVti96IdSQy",
        "outputId": "3284259b-87d0-4411-f2fb-86e073e50157"
      },
      "source": [
        "print(\"Accuracy score of Model 1: DecisionTreeClassifier is \"+str(r1))\n",
        "print(\"Accuracy score of Model 2: SupportVectorMachine is \"+str(r2))\n",
        "print(\"Accuracy score of Model 3: KNN is \"+str(r3))\n",
        "print(\"Accuracy score of Model 4: LogisticRegression is \"+str(r4))\n"
      ],
      "execution_count": 39,
      "outputs": [
        {
          "output_type": "stream",
          "text": [
            "Accuracy score of Model 1: DecisionTreeClassifier is 0.8732\n",
            "Accuracy score of Model 2: SupportVectorMachine is 0.918\n",
            "Accuracy score of Model 3: KNN is 0.9016\n",
            "Accuracy score of Model 4: LogisticRegression is 0.9184\n"
          ],
          "name": "stdout"
        }
      ]
    },
    {
      "cell_type": "markdown",
      "metadata": {
        "id": "3VMAGWjIdgIe"
      },
      "source": [
        "2. Sensitivity and Specificity"
      ]
    },
    {
      "cell_type": "code",
      "metadata": {
        "id": "5ELTIA4ldYG2"
      },
      "source": [
        "#confusion matrix\n",
        "\n",
        "#decision tree\n",
        "cm1 = confusion_matrix(y_test, prediction1)\n",
        "TP1 = cm1[1,1]\n",
        "TN1 = cm1[0,0]\n",
        "FP1 = cm1[0,1]\n",
        "FN1 = cm1[1,0]\n",
        "\n",
        "#svm\n",
        "cm2 = confusion_matrix(y_test, prediction2)\n",
        "TP2 = cm2[1,1]\n",
        "TN2 = cm2[0,0]\n",
        "FP2 = cm2[0,1]\n",
        "FN2 = cm2[1,0]\n",
        "\n",
        "#knn\n",
        "cm3 = confusion_matrix(y_test, prediction3)\n",
        "TP3 = cm3[1,1]\n",
        "TN3 = cm3[0,0]\n",
        "FP3 = cm3[0,1]\n",
        "FN3 = cm3[1,0]\n",
        "\n",
        "#logisticregression\n",
        "cm4 = confusion_matrix(y_test, prediction4)\n",
        "TP4 = cm4[1,1]\n",
        "TN4 = cm4[0,0]\n",
        "FP4 = cm4[0,1]\n",
        "FN4 = cm4[1,0]\n"
      ],
      "execution_count": 42,
      "outputs": []
    },
    {
      "cell_type": "code",
      "metadata": {
        "id": "vScFTVwWd2Iy"
      },
      "source": [
        "#sensitivity\n",
        "sen1 = TP1 / float(FN1 + TP1)\n",
        "sen2 = TP2 / float(FN2 + TP2)\n",
        "sen3 = TP3 / float(FN3 + TP3)\n",
        "sen4 = TP4 / float(FN4 + TP4)\n",
        "\n",
        "\n",
        "\n",
        "#specificity\n",
        "spec1 = TN1 / (TN1 + FP1)\n",
        "spec2 = TN2 / (TN2 + FP2)\n",
        "spec3 = TN3 / (TN3 + FP3)\n",
        "spec4 = TN4 / (TN4 + FP4)\n"
      ],
      "execution_count": 45,
      "outputs": []
    },
    {
      "cell_type": "code",
      "metadata": {
        "colab": {
          "base_uri": "https://localhost:8080/"
        },
        "id": "QlqvpnQ9d9Ij",
        "outputId": "4aec8e37-e898-4dd6-9b37-18685d026c61"
      },
      "source": [
        "print(\"Sensitivity Rate of Decision Tree: \"+ str(sen1))\n",
        "print(\"Sensitivity Rate of SVM: \"+ str(sen2))\n",
        "print(\"Sensitivity Rate of KNN: \"+ str(sen3))\n",
        "print(\"Sensitivity Rate of LogisticRegression: \"+ str(sen4))\n",
        "\n",
        "print()\n",
        "print(\"Specificity Rate of Decision Tree: \"+ str(spec1))\n",
        "print(\"Specificity Rate of SVM: \"+ str(spec2))\n",
        "print(\"Specificity Rate of KNN: \"+ str(spec3))\n",
        "print(\"Specificity Rate of LogisticRegression: \"+ str(spec4))\n",
        "\n",
        "print()"
      ],
      "execution_count": 46,
      "outputs": [
        {
          "output_type": "stream",
          "text": [
            "Sensitivity Rate of Decision Tree: 0.8646080760095012\n",
            "Sensitivity Rate of SVM: 0.9113222486144101\n",
            "Sensitivity Rate of KNN: 0.8962787015043547\n",
            "Sensitivity Rate of LogisticRegression: 0.9152810768012668\n",
            "\n",
            "Specificity Rate of Decision Tree: 0.8819725141471302\n",
            "Specificity Rate of SVM: 0.9248181083265966\n",
            "Specificity Rate of KNN: 0.9070331447049312\n",
            "Specificity Rate of LogisticRegression: 0.9215844785772029\n",
            "\n"
          ],
          "name": "stdout"
        }
      ]
    },
    {
      "cell_type": "code",
      "metadata": {
        "colab": {
          "base_uri": "https://localhost:8080/"
        },
        "id": "nc3VCQG-eQN1",
        "outputId": "79288785-f98f-43b6-bd59-a0f32e5dddb7"
      },
      "source": [
        "print(\"Classification Report: Decision Tree\")\n",
        "print(classification_report(y_test, prediction1))\n",
        "print(\"Classification Report: SVM\")\n",
        "print(classification_report(y_test, prediction2))\n",
        "print(\"Classification Report: KNN\")\n",
        "print(classification_report(y_test, prediction3))\n",
        "print(\"Classification Report: LogisticRegression\")\n",
        "print(classification_report(y_test, prediction4))"
      ],
      "execution_count": 47,
      "outputs": [
        {
          "output_type": "stream",
          "text": [
            "Classification Report: Decision Tree\n",
            "              precision    recall  f1-score   support\n",
            "\n",
            "      Female       0.86      0.88      0.87      1237\n",
            "        Male       0.88      0.86      0.87      1263\n",
            "\n",
            "    accuracy                           0.87      2500\n",
            "   macro avg       0.87      0.87      0.87      2500\n",
            "weighted avg       0.87      0.87      0.87      2500\n",
            "\n",
            "Classification Report: SVM\n",
            "              precision    recall  f1-score   support\n",
            "\n",
            "      Female       0.91      0.92      0.92      1237\n",
            "        Male       0.93      0.91      0.92      1263\n",
            "\n",
            "    accuracy                           0.92      2500\n",
            "   macro avg       0.92      0.92      0.92      2500\n",
            "weighted avg       0.92      0.92      0.92      2500\n",
            "\n",
            "Classification Report: KNN\n",
            "              precision    recall  f1-score   support\n",
            "\n",
            "      Female       0.90      0.91      0.90      1237\n",
            "        Male       0.91      0.90      0.90      1263\n",
            "\n",
            "    accuracy                           0.90      2500\n",
            "   macro avg       0.90      0.90      0.90      2500\n",
            "weighted avg       0.90      0.90      0.90      2500\n",
            "\n",
            "Classification Report: LogisticRegression\n",
            "              precision    recall  f1-score   support\n",
            "\n",
            "      Female       0.91      0.92      0.92      1237\n",
            "        Male       0.92      0.92      0.92      1263\n",
            "\n",
            "    accuracy                           0.92      2500\n",
            "   macro avg       0.92      0.92      0.92      2500\n",
            "weighted avg       0.92      0.92      0.92      2500\n",
            "\n"
          ],
          "name": "stdout"
        }
      ]
    },
    {
      "cell_type": "markdown",
      "metadata": {
        "id": "jqXOhSpbfFiZ"
      },
      "source": [
        "From the about classification report I can conclude that,\n",
        "When actual value is male then:\n",
        "1. Decision Tree has accuracy of 88%\n",
        "2. SVM has accuracy of 93%\n",
        "3. KNN has accuracy of 91%\n",
        "4. Logistic Regression has accuracy of 92%\n",
        "\n",
        "When actual value is female then:\n",
        "1. Decision Tree has accuracy of 86%\n",
        "2. SVM has accuracy of 91%\n",
        "3. KNN has accuracy of 90%\n",
        "4. Logistic Regression has accuracy of 91% \n"
      ]
    },
    {
      "cell_type": "markdown",
      "metadata": {
        "id": "KwyzrpzAnlE8"
      },
      "source": [
        "**Predicting the model**"
      ]
    },
    {
      "cell_type": "code",
      "metadata": {
        "colab": {
          "base_uri": "https://localhost:8080/"
        },
        "id": "RE-iZKckei8-",
        "outputId": "347a5618-fcac-4205-8b58-609f475972c8"
      },
      "source": [
        "height = 61\n",
        "weight = 145\n",
        "prediction = clf2.predict([[height, weight]])\n",
        "print(\"The classifier predicts that you could be \" +str(prediction[0]))"
      ],
      "execution_count": 53,
      "outputs": [
        {
          "output_type": "stream",
          "text": [
            "The classifier predicts that you could be Female\n"
          ],
          "name": "stdout"
        }
      ]
    },
    {
      "cell_type": "markdown",
      "metadata": {
        "id": "4gmscH0IosCs"
      },
      "source": [
        "As I gave my height and weight so it predicted my gender correctly. You can try the above code for predictions "
      ]
    },
    {
      "cell_type": "code",
      "metadata": {
        "id": "kBlmqmzcoqDU"
      },
      "source": [
        ""
      ],
      "execution_count": null,
      "outputs": []
    }
  ]
}